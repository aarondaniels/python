{
 "cells": [
  {
   "cell_type": "markdown",
   "id": "e3412107",
   "metadata": {},
   "source": [
    "# Student grades in an array\n",
    "This section will identify a relational data model for grades. Lists will be leveraged to create arrays of the data. Three separate tables will be created with relations to each other. At the end, a query will be generated using a list comprehension to query the db\n"
   ]
  },
  {
   "cell_type": "code",
   "execution_count": null,
   "id": "3088009f",
   "metadata": {},
   "outputs": [],
   "source": [
    "# students \n",
    "#examples of student records using lists and dictionaries\n",
    "s1 = {'id': 1, 'name': 'Alice'}\n",
    "s2 = {'id': 2, 'name': 'Bob'}\n",
    "s1 = {'id': 3, 'name': 'Charles'}\n",
    "\n",
    "#student table, using a dictionary of lists\n",
    "students = {'students': [s1, s2, s3]}"
   ]
  },
  {
   "cell_type": "code",
   "execution_count": null,
   "id": "669235c3",
   "metadata": {},
   "outputs": [],
   "source": [
    "# problem sets (assignments for students)\n",
    "p1 = {'id': 1, 'maxScore': 100}\n",
    "p2 = {'id': 2, 'maxScore': 80}\n",
    "p3 = {'id': 3, 'maxScore': 120}\n",
    "\n",
    "#problem sets would be identified in an array (list) within a dictionary\n",
    "psets = {'psets': [p1, p2, p3]}"
   ]
  },
  {
   "cell_type": "code",
   "execution_count": 1,
   "id": "765dabcd",
   "metadata": {},
   "outputs": [
    {
     "data": {
      "text/plain": [
       "{'grades': [{'sid': 1, 'pid': 1, 'score': 90},\n",
       "  {'sid': 2, 'pid': 1, 'score': 95},\n",
       "  {'sid': 1, 'pid': 2, 'score': 50}]}"
      ]
     },
     "execution_count": 1,
     "metadata": {},
     "output_type": "execute_result"
    }
   ],
   "source": [
    "# grades\n",
    "#define grades as they relate to the student (sid), problem set (pid), and the student's score\n",
    "g1 = {'sid': 1, 'pid': 1, 'score':90}\n",
    "g2 = {'sid': 2, 'pid': 1, 'score':95}\n",
    "g3 = {'sid': 1, 'pid': 2, 'score':50}\n",
    "grades = {'grades': [g1, g2, g3]}\n"
   ]
  },
  {
   "cell_type": "code",
   "execution_count": 2,
   "id": "c1ffac96",
   "metadata": {},
   "outputs": [
    {
     "data": {
      "text/plain": [
       "{'students': [], 'psets': [], 'grades': []}"
      ]
     },
     "execution_count": 2,
     "metadata": {},
     "output_type": "execute_result"
    }
   ],
   "source": [
    "#create a database. \n",
    "\n",
    "#Tables noted as keys in the key:value pair structure\n",
    "db = {'students':[], 'psets':[], 'grades':[]}\n"
   ]
  },
  {
   "cell_type": "code",
   "execution_count": null,
   "id": "07f8fb9d",
   "metadata": {},
   "outputs": [],
   "source": [
    "#create function to build db\n",
    "\n",
    "def empty():\n",
    "    \n",
    "    return {'students':[], 'psets':[], 'grades':[]}\n",
    "\n",
    "db = empty()"
   ]
  },
  {
   "cell_type": "code",
   "execution_count": 4,
   "id": "a8c46952",
   "metadata": {},
   "outputs": [
    {
     "data": {
      "text/plain": [
       "{'students': [{'id': 1, 'name': 'Alice'},\n",
       "  {'id': 2, 'name': 'Bob'},\n",
       "  {'id': 3, 'name': 'Charles'}],\n",
       " 'psets': [],\n",
       " 'grades': []}"
      ]
     },
     "execution_count": 4,
     "metadata": {},
     "output_type": "execute_result"
    }
   ],
   "source": [
    "#create function to add students to db\n",
    "\n",
    "def addStudent(db, studentId, studentName):\n",
    "    db['students'].append({'id': studentId, 'name': studentName}) #follow same structure as student table above\n",
    "    \n",
    "#test function for adding content to db\n",
    "addStudent(db, 1, 'Alice')\n",
    "addStudent(db, 2, 'Bob')\n",
    "addStudent(db, 3, 'Charles')\n",
    "db"
   ]
  },
  {
   "cell_type": "code",
   "execution_count": 5,
   "id": "cc0af830",
   "metadata": {},
   "outputs": [
    {
     "data": {
      "text/plain": [
       "{'students': [{'id': 1, 'name': 'Alice'},\n",
       "  {'id': 2, 'name': 'Bob'},\n",
       "  {'id': 3, 'name': 'Charles'}],\n",
       " 'psets': [{'id': 1, 'maxScore': 100},\n",
       "  {'id': 2, 'maxScore': 80},\n",
       "  {'id': 3, 'maxScore': 120}],\n",
       " 'grades': []}"
      ]
     },
     "execution_count": 5,
     "metadata": {},
     "output_type": "execute_result"
    }
   ],
   "source": [
    "#create function to add Problem sets to db\n",
    "\n",
    "def addPset(db, pid, maxScore):\n",
    "    db['psets'].append({'id': pid, 'maxScore': maxScore}) #follow same structure as student table above\n",
    "    \n",
    "#test function for adding content to db\n",
    "addPset(db, 1, 100)\n",
    "addPset(db, 2, 80)\n",
    "addPset(db, 3, 120)\n",
    "db"
   ]
  },
  {
   "cell_type": "code",
   "execution_count": 7,
   "id": "ec6916b2",
   "metadata": {},
   "outputs": [
    {
     "data": {
      "text/plain": [
       "{'students': [{'id': 1, 'name': 'Alice'},\n",
       "  {'id': 2, 'name': 'Bob'},\n",
       "  {'id': 3, 'name': 'Charles'}],\n",
       " 'psets': [{'id': 1, 'maxScore': 100},\n",
       "  {'id': 2, 'maxScore': 80},\n",
       "  {'id': 3, 'maxScore': 120}],\n",
       " 'grades': [{'sid': 1, 'pid': 1, 'score': 98},\n",
       "  {'sid': 1, 'pid': 2, 'score': 70},\n",
       "  {'sid': 1, 'pid': 3, 'score': 110},\n",
       "  {'sid': 2, 'pid': 3, 'score': 113},\n",
       "  {'sid': 3, 'pid': 3, 'score': 108}]}"
      ]
     },
     "execution_count": 7,
     "metadata": {},
     "output_type": "execute_result"
    }
   ],
   "source": [
    "#create function to add grades to db\n",
    "\n",
    "def addGrade(db, sid, pid, score):\n",
    "    db['grades'].append({'sid': sid, 'pid': pid, 'score':score})\n",
    "\n",
    "#add grades to db\n",
    "addGrade(db, 1, 1, 98)\n",
    "addGrade(db, 1, 2, 70)\n",
    "addGrade(db, 1, 3, 110)\n",
    "addGrade(db, 2, 3, 113)\n",
    "addGrade(db, 3, 3, 108)\n",
    "\n",
    "db"
   ]
  },
  {
   "cell_type": "code",
   "execution_count": 10,
   "id": "7b6a6640",
   "metadata": {},
   "outputs": [
    {
     "data": {
      "text/plain": [
       "[98]"
      ]
     },
     "execution_count": 10,
     "metadata": {},
     "output_type": "execute_result"
    }
   ],
   "source": [
    "#query database for grade of a student\n",
    "\n",
    "def getGrade(db, sid, pid):\n",
    "    return [row['score'] for row in db['grades']\n",
    "    if row['sid'] == sid and row['pid'] == pid] #loop over list and pick out a row and return points in a list comprehension       \n",
    "\n",
    "getGrade(db, 1, 1) #the grade for student 1 on problem set 1"
   ]
  },
  {
   "cell_type": "markdown",
   "id": "e2883d29",
   "metadata": {},
   "source": [
    "# Student grades in a dictionary\n",
    "The functions in this model will result in queries that output a dictionary\n"
   ]
  },
  {
   "cell_type": "code",
   "execution_count": 12,
   "id": "b712fd09",
   "metadata": {},
   "outputs": [
    {
     "data": {
      "text/plain": [
       "{'students': {1: 'Alice', 2: 'Bob', 3: 'Charles'},\n",
       " 'psets': {1: 100, 2: 120, 3: 80},\n",
       " 'grades': {1: {1: 90, 2: 100}, 2: {1: 95}, 3: {1: 80, 2: 115}}}"
      ]
     },
     "execution_count": 12,
     "metadata": {},
     "output_type": "execute_result"
    }
   ],
   "source": [
    "def empty():\n",
    "    return{\"students\":{}, #in this case, a dictionary is used instead of a list\n",
    "          \"psets\":{},\n",
    "          \"grades\":{}}\n",
    "\n",
    "db = empty() #create an empty database\n",
    "\n",
    "def addStudent(db, student_id, student_name):\n",
    "    db['students'][student_id] = student_name #use student_id as key\n",
    "    \n",
    "def addPset(db, pset_id, pset_total_points):\n",
    "    db['psets'][pset_id] = pset_total_points\n",
    "    \n",
    "def addGrade(db, student_id, pset_id, points):\n",
    "    if student_id not in db['grades']: #points may not be in the grades\n",
    "        db['grades'][student_id] = {}\n",
    "    db['grades'][student_id][pset_id] = points\n",
    "\n",
    "#add a student\n",
    "db = empty()\n",
    "addStudent(db, 1, \"Alice\")\n",
    "addStudent(db, 2, \"Bob\")\n",
    "addStudent(db, 3, \"Charles\")\n",
    "\n",
    "#add problem sets\n",
    "addPset(db, 1, 100)\n",
    "addPset(db, 2, 120)\n",
    "addPset(db, 3, 80)\n",
    "\n",
    "#add grades\n",
    "addGrade(db, 1, 1, 90)\n",
    "addGrade(db, 2, 1, 95)\n",
    "addGrade(db, 3, 1, 80)\n",
    "addGrade(db, 1, 2, 100)\n",
    "addGrade(db, 3, 2, 120)\n",
    "addGrade(db, 3, 2, 115)\n",
    "\n",
    "\n",
    "db"
   ]
  },
  {
   "cell_type": "code",
   "execution_count": 14,
   "id": "7cbd8ef7",
   "metadata": {},
   "outputs": [
    {
     "data": {
      "text/plain": [
       "{1: 90, 2: 100}"
      ]
     },
     "execution_count": 14,
     "metadata": {},
     "output_type": "execute_result"
    }
   ],
   "source": [
    "#query grades\n",
    "#use helper function\n",
    "\n",
    "def get(dict, key):\n",
    "    if key in dict: #if key exists\n",
    "        return dict[key]\n",
    "    else: \n",
    "        return None\n",
    "\n",
    "def studentGrades(db, student_id):\n",
    "    return get(db['grades'], student_id) #this should return entire dictionary\n",
    "\n",
    "studentGrades(db, 1)"
   ]
  },
  {
   "cell_type": "code",
   "execution_count": null,
   "id": "ca5c3b23",
   "metadata": {},
   "outputs": [],
   "source": []
  },
  {
   "cell_type": "code",
   "execution_count": null,
   "id": "90abe33e",
   "metadata": {},
   "outputs": [],
   "source": []
  }
 ],
 "metadata": {
  "kernelspec": {
   "display_name": "Python 3 (ipykernel)",
   "language": "python",
   "name": "python3"
  },
  "language_info": {
   "codemirror_mode": {
    "name": "ipython",
    "version": 3
   },
   "file_extension": ".py",
   "mimetype": "text/x-python",
   "name": "python",
   "nbconvert_exporter": "python",
   "pygments_lexer": "ipython3",
   "version": "3.9.7"
  }
 },
 "nbformat": 4,
 "nbformat_minor": 5
}
