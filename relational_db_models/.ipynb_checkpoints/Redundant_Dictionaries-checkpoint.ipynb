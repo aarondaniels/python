{
 "cells": [
  {
   "cell_type": "markdown",
   "id": "ea0f215e",
   "metadata": {},
   "source": [
    "# Redundant Dictionaries\n",
    "Ideally, this will make the dictionaries faster. It will bridge from understanding made in the relational data structures notebook"
   ]
  },
  {
   "cell_type": "code",
   "execution_count": null,
   "id": "2e74add3",
   "metadata": {},
   "outputs": [],
   "source": [
    "db = {'students': {1: 'Alice', 2: 'Bob', 3: 'Charles'},\n",
    " 'psets': {1: 100, 2: 120, 3: 80},\n",
    " 'grades': {1: {1: 90, 2: 100}, 2: {1: 95}, 3: {1: 80, 2: 115}}}"
   ]
  },
  {
   "cell_type": "code",
   "execution_count": 4,
   "id": "ccda927b",
   "metadata": {},
   "outputs": [
    {
     "data": {
      "text/plain": [
       "{'studentsById': {1: 'Alice', 2: 'Bob', 3: 'Charles'},\n",
       " 'studentsByName': {'Alice': 1, 'Bob': 2, 'Charles': 3},\n",
       " 'psets': {1: 100, 2: 120, 3: 80},\n",
       " 'gradesByStudents': {1: {1: 90, 2: 100}, 2: {1: 95}, 3: {1: 80, 2: 115}},\n",
       " 'gradesByPsets': {1: {1: 90, 2: 95, 3: 80}, 2: {1: 100, 3: 115}}}"
      ]
     },
     "execution_count": 4,
     "metadata": {},
     "output_type": "execute_result"
    }
   ],
   "source": [
    "def empty():\n",
    "    return{\"studentsById\": {},\n",
    "          \"studentsByName\": {},\n",
    "          \"psets\": {},\n",
    "          \"gradesByStudents\": {},\n",
    "          \"gradesByPsets\": {}}\n",
    "\n",
    "db = empty()\n",
    "\n",
    "def get(dict, key):\n",
    "    if key in dict: \n",
    "        return dict[key]\n",
    "    else:\n",
    "        return None\n",
    "#to add to a nested dictionary\n",
    "def add2(dict1, key1, key2, value): #add a helper function\n",
    "    if key1 not in dict1: #add key in dictionary if it does not already exist\n",
    "        dict1[key1] = {}\n",
    "    dict1[key1][key2] = value\n",
    "    \n",
    "       \n",
    "def addStudent(db, student_id, student_name):\n",
    "    db['studentsById'][student_id] = student_name\n",
    "    db['studentsByName'][student_name] = student_id\n",
    "\n",
    "def addPset(db, pset_id, pset_total_points):\n",
    "    db[\"psets\"][pset_id] = pset_total_points\n",
    "\n",
    "def addGrade(db, student_id, pset_id, points): #take advantage of helper function with this one\n",
    "    add2(db['gradesByStudents'], student_id, pset_id, points)\n",
    "    add2(db['gradesByPsets'], pset_id, student_id, points)\n",
    "\n",
    "#populate db\n",
    "#add a student\n",
    "db = empty()\n",
    "addStudent(db, 1, \"Alice\")\n",
    "addStudent(db, 2, \"Bob\")\n",
    "addStudent(db, 3, \"Charles\")\n",
    "\n",
    "#add problem sets\n",
    "addPset(db, 1, 100)\n",
    "addPset(db, 2, 120)\n",
    "addPset(db, 3, 80)\n",
    "\n",
    "#add grades\n",
    "addGrade(db, 1, 1, 90)\n",
    "addGrade(db, 2, 1, 95)\n",
    "addGrade(db, 3, 1, 80)\n",
    "addGrade(db, 1, 2, 100)\n",
    "addGrade(db, 3, 2, 120)\n",
    "addGrade(db, 3, 2, 115)\n",
    "    \n",
    "db"
   ]
  },
  {
   "cell_type": "code",
   "execution_count": 8,
   "id": "29f83289",
   "metadata": {},
   "outputs": [
    {
     "data": {
      "text/plain": [
       "{1: 100, 3: 115}"
      ]
     },
     "execution_count": 8,
     "metadata": {},
     "output_type": "execute_result"
    }
   ],
   "source": [
    "#get grades on pset\n",
    "\n",
    "def getGradesOnPset(Db, pset_id):\n",
    "    return get(db['gradesByPsets'], pset_id)\n",
    "\n",
    "getGradesOnPset(db, 2)"
   ]
  },
  {
   "cell_type": "code",
   "execution_count": null,
   "id": "c48ba3fc",
   "metadata": {},
   "outputs": [],
   "source": []
  }
 ],
 "metadata": {
  "kernelspec": {
   "display_name": "Python 3 (ipykernel)",
   "language": "python",
   "name": "python3"
  },
  "language_info": {
   "codemirror_mode": {
    "name": "ipython",
    "version": 3
   },
   "file_extension": ".py",
   "mimetype": "text/x-python",
   "name": "python",
   "nbconvert_exporter": "python",
   "pygments_lexer": "ipython3",
   "version": "3.9.7"
  }
 },
 "nbformat": 4,
 "nbformat_minor": 5
}
